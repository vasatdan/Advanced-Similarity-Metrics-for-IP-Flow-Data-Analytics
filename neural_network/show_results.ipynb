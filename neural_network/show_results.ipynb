{
 "cells": [
  {
   "cell_type": "code",
   "execution_count": 1,
   "id": "5e69929a-8d76-4bdf-9615-1d60e80094fe",
   "metadata": {},
   "outputs": [],
   "source": [
    "import os\n",
    "import pickle\n",
    "import copy\n",
    "\n",
    "from model_functions import *"
   ]
  },
  {
   "cell_type": "code",
   "execution_count": 2,
   "id": "862bc95b-ea18-42e6-9820-386fb836f042",
   "metadata": {},
   "outputs": [],
   "source": [
    "save_dir = os.path.join(\"./results\")\n",
    "save_name = os.path.join(save_dir,f\"optuna_best_model_params.pkl\")\n",
    "model_save_dir = os.path.join(\"./saved_models\")\n",
    "\n",
    "with open(save_name, 'rb') as file:\n",
    "    best_params,learning_rate,val_accuracy, test_accuracy, val_f1, test_f1, yval, vypred, ytest, typred = pickle.load(file)"
   ]
  },
  {
   "cell_type": "code",
   "execution_count": 4,
   "id": "36627db1-9cb2-483f-8316-0367a44e7e51",
   "metadata": {},
   "outputs": [
    {
     "name": "stdout",
     "output_type": "stream",
     "text": [
      "Best parameters:\n",
      "{'cnn_final_len': 5, 'cnn_phist_final_len': 4, 'ppi_unit1': 190, 'ppi_unit2': 350, 'phist_unit1': 45, 'phist_unit2': 120, 'others_unit': 390, 'common_unit': 720, 'cnn_num_hidden': 2, 'cnn_phist_num_hidden': 2, 'others_num_hidden': 2, 'dropout_rate': 0.15000000000000002}\n",
      "Best learning rate: 0.0008578671790335106\n",
      "\n",
      "Test accuraccy = 93.8\n",
      "\n",
      "Test macro average F1 = 90.8\n"
     ]
    }
   ],
   "source": [
    "print(f\"Best parameters:\")\n",
    "print(best_params)\n",
    "print(f\"Best learning rate: {learning_rate}\")\n",
    "\n",
    "print(f\"\\nTest accuraccy = {test_accuracy*100:.1f}\")\n",
    "print(f\"\\nTest macro average F1 = {test_f1*100:.1f}\")"
   ]
  },
  {
   "cell_type": "code",
   "execution_count": 5,
   "id": "da08d878-f9b9-44b6-8533-1baac3b8aa10",
   "metadata": {},
   "outputs": [],
   "source": [
    "model = MultimodalClassificationModel(**best_params)"
   ]
  },
  {
   "cell_type": "code",
   "execution_count": 6,
   "id": "3dd7141b-ce05-409e-9eb9-2409d6e1e799",
   "metadata": {},
   "outputs": [
    {
     "name": "stdout",
     "output_type": "stream",
     "text": [
      "Total number of parameters: 3299651\n"
     ]
    }
   ],
   "source": [
    "total_params = sum(p.numel() for p in model.parameters() if p.requires_grad)\n",
    "print(f'Total number of parameters: {total_params}')"
   ]
  },
  {
   "cell_type": "code",
   "execution_count": null,
   "id": "8d30311a-2a6c-4d9d-8e5b-b6ec3a9b2da9",
   "metadata": {},
   "outputs": [],
   "source": []
  }
 ],
 "metadata": {
  "kernelspec": {
   "display_name": "Python 3 (ipykernel)",
   "language": "python",
   "name": "python3"
  },
  "language_info": {
   "codemirror_mode": {
    "name": "ipython",
    "version": 3
   },
   "file_extension": ".py",
   "mimetype": "text/x-python",
   "name": "python",
   "nbconvert_exporter": "python",
   "pygments_lexer": "ipython3",
   "version": "3.10.6"
  }
 },
 "nbformat": 4,
 "nbformat_minor": 5
}
