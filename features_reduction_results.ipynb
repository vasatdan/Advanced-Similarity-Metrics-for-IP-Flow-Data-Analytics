{
 "cells": [
  {
   "cell_type": "code",
   "execution_count": 1,
   "id": "f328b220-0d54-4021-b87a-7a26e4d79ebf",
   "metadata": {
    "tags": []
   },
   "outputs": [],
   "source": [
    "import os\n",
    "import pickle\n",
    "import json"
   ]
  },
  {
   "cell_type": "code",
   "execution_count": 17,
   "id": "e1513249-a260-4087-bbac-de16968eaf07",
   "metadata": {
    "tags": []
   },
   "outputs": [],
   "source": [
    "with open('results/reduced_features.pickle', 'rb') as file:\n",
    "    REDUCTION = pickle.load(file)"
   ]
  },
  {
   "cell_type": "code",
   "execution_count": 20,
   "id": "37b11a56-2c2f-448f-b057-73f2c2038863",
   "metadata": {
    "tags": []
   },
   "outputs": [
    {
     "name": "stdout",
     "output_type": "stream",
     "text": [
      "CM best\n",
      "['BYTES', 'BYTES_REV', 'PACKETS_REV_RATE', 'FIN_COUNT', 'SYN_COUNT', 'PSH_COUNT', 'LENGTHS_MIN', 'LENGTHS_STD', 'FWD_LENGTHS_MIN', 'FWD_LENGTHS_MAX', 'FWD_LENGTHS_MEAN', 'FWD_LENGTHS_STD', 'BWD_LENGTHS_MIN', 'BWD_LENGTHS_MAX', 'BWD_LENGTHS_MEAN', 'BWD_LENGTHS_STD', 'PKT_IAT_MAX', 'PKT_IAT_STD', 'FWD_PKT_IAT_MAX', 'BWD_PKT_IAT_MAX', 'BWD_PKT_IAT_MEAN', 'D_PHISTS_SIZES_DIST_W_6', 'S_PHISTS_SIZES_DIST_W_6', 'D_PHISTS_IPT_DIST_W_6', 'S_PHISTS_IPT_DIST_W_6', 'S_PPI_LENGTHS_DIST_W_2', 'D_PPI_LENGTHS_DIST_W_2']\n",
      "Length is 27\n"
     ]
    }
   ],
   "source": [
    "for key, val in REDUCTION.items():\n",
    "    print(key)\n",
    "    print(list(val))\n",
    "    print(f\"Length is {len(val)}\")"
   ]
  },
  {
   "cell_type": "code",
   "execution_count": 21,
   "id": "cd4c82cb-4b39-4ae4-8898-9d3e1198556a",
   "metadata": {
    "tags": []
   },
   "outputs": [],
   "source": [
    "with open('results/reduced_features_42.pickle', 'rb') as file:\n",
    "    REDUCTION = pickle.load(file)"
   ]
  },
  {
   "cell_type": "code",
   "execution_count": 22,
   "id": "565f2dbc-eb42-4ae2-8eb3-8200991ab014",
   "metadata": {
    "tags": []
   },
   "outputs": [
    {
     "name": "stdout",
     "output_type": "stream",
     "text": [
      "CM all\n",
      "['BYTES', 'BYTES_REV', 'BYTES_TOTAL_RATE', 'FIN_COUNT', 'PSH_COUNT', 'LENGTHS_STD', 'FWD_LENGTHS_MIN', 'FWD_LENGTHS_MAX', 'FWD_LENGTHS_MEAN', 'FWD_LENGTHS_STD', 'BWD_LENGTHS_MIN', 'BWD_LENGTHS_MAX', 'BWD_LENGTHS_MEAN', 'BWD_LENGTHS_STD', 'PKT_IAT_STD', 'BWD_PKT_IAT_MAX', 'D_PHISTS_SIZES_DIST_W_6', 'S_PHISTS_SIZES_DIST_W_6', 'D_PHISTS_IPT_DIST_W_6', 'D_PPI_LENGTHS_DIST_W_2']\n",
      "Length is 20\n"
     ]
    }
   ],
   "source": [
    "for key, val in REDUCTION.items():\n",
    "    print(key)\n",
    "    print(list(val))\n",
    "    print(f\"Length is {len(val)}\")"
   ]
  },
  {
   "cell_type": "code",
   "execution_count": 11,
   "id": "1d7245d3-8827-4ee7-80fa-9ed0d985b17e",
   "metadata": {
    "tags": []
   },
   "outputs": [],
   "source": [
    "features_reduced = ['BYTES', 'BYTES_REV', 'BYTES_TOTAL_RATE', 'FIN_COUNT', 'LENGTHS_STD',\n",
    "  'FWD_LENGTHS_MIN', 'FWD_LENGTHS_MAX', 'FWD_LENGTHS_MEAN',\n",
    "  'FWD_LENGTHS_STD', 'BWD_LENGTHS_MIN', 'BWD_LENGTHS_MAX',\n",
    "  'BWD_LENGTHS_MEAN', 'BWD_LENGTHS_STD', 'PKT_IAT_MAX', 'BWD_PKT_IAT_MAX',\n",
    "  'BWD_PKT_IAT_MEAN', 'D_PHISTS_IPT_DIST_CM_1',\n",
    "  'D_PHISTS_SIZES_DIST_CM_2', 'S_PHISTS_SIZES_DIST_CM_3',\n",
    "  'D_PHISTS_SIZES_DIST_CM_4', 'D_PHISTS_SIZES_DIST_CM_5',\n",
    "  'S_PHISTS_SIZES_DIST_CM_5', 'D_PHISTS_SIZES_DIST_CM_6',\n",
    "  'D_PPI_IPT_DIST_CM_1', 'D_PPI_LENGTHS_DIST_CM_1', 'D_PPI_IPT_DIST_CM_2',\n",
    "  'S_PPI_LENGTHS_DIST_CM_2', 'D_PPI_LENGTHS_DIST_CM_2']"
   ]
  },
  {
   "cell_type": "code",
   "execution_count": 12,
   "id": "c3ead4dc-d451-4992-b292-e30117a15844",
   "metadata": {
    "tags": []
   },
   "outputs": [
    {
     "data": {
      "text/plain": [
       "{'BWD_PKT_IAT_MEAN',\n",
       " 'D_PHISTS_IPT_DIST_CM_1',\n",
       " 'D_PHISTS_SIZES_DIST_CM_2',\n",
       " 'D_PHISTS_SIZES_DIST_CM_4',\n",
       " 'D_PHISTS_SIZES_DIST_CM_5',\n",
       " 'D_PHISTS_SIZES_DIST_CM_6',\n",
       " 'D_PPI_IPT_DIST_CM_1',\n",
       " 'D_PPI_IPT_DIST_CM_2',\n",
       " 'D_PPI_LENGTHS_DIST_CM_1',\n",
       " 'D_PPI_LENGTHS_DIST_CM_2',\n",
       " 'PKT_IAT_MAX',\n",
       " 'S_PHISTS_SIZES_DIST_CM_3',\n",
       " 'S_PHISTS_SIZES_DIST_CM_5',\n",
       " 'S_PPI_LENGTHS_DIST_CM_2'}"
      ]
     },
     "execution_count": 12,
     "metadata": {},
     "output_type": "execute_result"
    }
   ],
   "source": [
    "set(features_reduced) - set(REDUCTION['CM all'])"
   ]
  },
  {
   "cell_type": "code",
   "execution_count": null,
   "id": "7892774e-2bdc-4948-9e5a-7365b5238568",
   "metadata": {},
   "outputs": [],
   "source": []
  }
 ],
 "metadata": {
  "kernelspec": {
   "display_name": "Python 3 (ipykernel)",
   "language": "python",
   "name": "python3"
  },
  "language_info": {
   "codemirror_mode": {
    "name": "ipython",
    "version": 3
   },
   "file_extension": ".py",
   "mimetype": "text/x-python",
   "name": "python",
   "nbconvert_exporter": "python",
   "pygments_lexer": "ipython3",
   "version": "3.10.6"
  }
 },
 "nbformat": 4,
 "nbformat_minor": 5
}
