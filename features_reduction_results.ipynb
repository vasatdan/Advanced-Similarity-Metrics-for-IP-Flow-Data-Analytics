{
 "cells": [
  {
   "cell_type": "code",
   "execution_count": 1,
   "id": "f328b220-0d54-4021-b87a-7a26e4d79ebf",
   "metadata": {
    "tags": []
   },
   "outputs": [],
   "source": [
    "import os\n",
    "import pickle\n",
    "import json"
   ]
  },
  {
   "cell_type": "code",
   "execution_count": 2,
   "id": "e1513249-a260-4087-bbac-de16968eaf07",
   "metadata": {
    "tags": []
   },
   "outputs": [],
   "source": [
    "with open('results/reduced_features_5.pickle', 'rb') as file:\n",
    "    names, REDUCTION, SCORE, SCORE_reduced, F1_reduced = pickle.load(file)"
   ]
  },
  {
   "cell_type": "code",
   "execution_count": 3,
   "id": "37b11a56-2c2f-448f-b057-73f2c2038863",
   "metadata": {
    "tags": []
   },
   "outputs": [
    {
     "name": "stdout",
     "output_type": "stream",
     "text": [
      "-----------\n",
      "CM all\n",
      "['BYTES', 'BYTES_REV', 'BYTES_TOTAL_RATE', 'FIN_COUNT', 'LENGTHS_STD', 'FWD_LENGTHS_MIN', 'FWD_LENGTHS_MAX', 'FWD_LENGTHS_MEAN', 'FWD_LENGTHS_STD', 'BWD_LENGTHS_MIN', 'BWD_LENGTHS_MAX', 'BWD_LENGTHS_MEAN', 'BWD_LENGTHS_STD', 'PKT_IAT_MAX', 'BWD_PKT_IAT_MAX', 'BWD_PKT_IAT_MEAN', 'D_PHISTS_IPT_DIST_CM_1', 'D_PHISTS_SIZES_DIST_CM_2', 'S_PHISTS_SIZES_DIST_CM_3', 'D_PHISTS_SIZES_DIST_CM_4', 'D_PHISTS_SIZES_DIST_CM_5', 'S_PHISTS_SIZES_DIST_CM_5', 'D_PHISTS_SIZES_DIST_CM_6', 'D_PPI_IPT_DIST_CM_1', 'D_PPI_LENGTHS_DIST_CM_1', 'D_PPI_IPT_DIST_CM_2', 'S_PPI_LENGTHS_DIST_CM_2', 'D_PPI_LENGTHS_DIST_CM_2']\n",
      "- Length is 28\n",
      "- Acc before reduction 88.4\n",
      "- Acc after reduction 91.4\n",
      "- F1 after reduction 86.6\n",
      "-----------\n",
      "L1 all\n",
      "['BYTES', 'BYTES_REV', 'PACKETS_REV', 'PACKETS_TOTAL_RATE', 'FIN_COUNT', 'SYN_COUNT', 'RST_COUNT', 'FIN_RATIO', 'PSH_RATIO', 'URG_RATIO', 'LENGTHS_MIN', 'LENGTHS_MAX', 'LENGTHS_MEAN', 'LENGTHS_STD', 'FWD_LENGTHS_MIN', 'FWD_LENGTHS_MAX', 'FWD_LENGTHS_MEAN', 'FWD_LENGTHS_STD', 'BWD_LENGTHS_MIN', 'BWD_LENGTHS_MAX', 'BWD_LENGTHS_MEAN', 'BWD_LENGTHS_STD', 'PKT_IAT_MIN', 'PKT_IAT_MAX', 'PKT_IAT_STD', 'FWD_PKT_IAT_STD', 'BWD_PKT_IAT_MIN', 'NORM_PKT_IAT_STD', 'NORM_FWD_PKT_IAT_MEAN', 'S_PHISTS_SIZES_DIST_L1_1', 'D_PHISTS_IPT_DIST_L1_1', 'D_PHISTS_SIZES_DIST_L1_2', 'D_PHISTS_IPT_DIST_L1_2', 'D_PHISTS_SIZES_DIST_L1_3', 'D_PHISTS_SIZES_DIST_L1_4', 'S_PHISTS_SIZES_DIST_L1_4', 'D_PHISTS_SIZES_DIST_L1_5', 'S_PHISTS_SIZES_DIST_L1_5', 'D_PHISTS_IPT_DIST_L1_5', 'D_PHISTS_SIZES_DIST_L1_6', 'S_PHISTS_SIZES_DIST_L1_6', 'D_PHISTS_IPT_DIST_L1_6', 'S_PHISTS_IPT_DIST_L1_6', 'D_PPI_IPT_DIST_L1_1', 'D_PPI_LENGTHS_DIST_L1_1', 'D_PPI_IPT_DIST_L1_2', 'D_PPI_LENGTHS_DIST_L1_2']\n",
      "- Length is 47\n",
      "- Acc before reduction 88.5\n",
      "- Acc after reduction 90.8\n",
      "- F1 after reduction 85.5\n",
      "-----------\n",
      "CM best\n",
      "['BYTES_REV', 'PACKETS_REV_RATE', 'FIN_COUNT', 'PSH_COUNT', 'FIN_RATIO', 'LENGTHS_MIN', 'LENGTHS_MEAN', 'LENGTHS_STD', 'FWD_LENGTHS_MIN', 'FWD_LENGTHS_MAX', 'FWD_LENGTHS_MEAN', 'FWD_LENGTHS_STD', 'BWD_LENGTHS_MIN', 'BWD_LENGTHS_MAX', 'BWD_LENGTHS_MEAN', 'BWD_LENGTHS_STD', 'PKT_IAT_MIN', 'PKT_IAT_MAX', 'FWD_PKT_IAT_MIN', 'FWD_PKT_IAT_MAX', 'BWD_PKT_IAT_MIN', 'BWD_PKT_IAT_MAX', 'BWD_PKT_IAT_MEAN', 'D_PHISTS_SIZES_DIST_CM_6', 'S_PHISTS_SIZES_DIST_CM_6', 'D_PHISTS_IPT_DIST_CM_6', 'S_PHISTS_IPT_DIST_CM_6', 'D_PPI_IPT_DIST_CM_2', 'S_PPI_LENGTHS_DIST_CM_2', 'D_PPI_LENGTHS_DIST_CM_2']\n",
      "- Length is 30\n",
      "- Acc before reduction 88.0\n",
      "- Acc after reduction 90.8\n",
      "- F1 after reduction 85.7\n",
      "-----------\n",
      "L1 best\n",
      "['BYTES', 'BYTES_REV', 'BYTES_RATE', 'FIN_COUNT', 'FIN_RATIO', 'PSH_RATIO', 'ACK_RATIO', 'LENGTHS_MIN', 'LENGTHS_STD', 'FWD_LENGTHS_MIN', 'FWD_LENGTHS_MAX', 'FWD_LENGTHS_MEAN', 'FWD_LENGTHS_STD', 'BWD_LENGTHS_MIN', 'BWD_LENGTHS_MAX', 'BWD_LENGTHS_MEAN', 'BWD_LENGTHS_STD', 'FWD_PKT_IAT_MIN', 'FWD_PKT_IAT_MAX', 'BWD_PKT_IAT_MIN', 'BWD_PKT_IAT_MEAN', 'BWD_PKT_IAT_STD', 'D_PHISTS_SIZES_DIST_L1_6', 'S_PHISTS_SIZES_DIST_L1_6', 'D_PHISTS_IPT_DIST_L1_6', 'S_PHISTS_IPT_DIST_L1_6', 'D_PPI_IPT_DIST_L1_2', 'D_PPI_LENGTHS_DIST_L1_2']\n",
      "- Length is 28\n",
      "- Acc before reduction 88.1\n",
      "- Acc after reduction 90.8\n",
      "- F1 after reduction 85.9\n",
      "-----------\n",
      "W best\n",
      "['BYTES', 'BYTES_REV', 'PACKETS_REV_RATE', 'FIN_COUNT', 'SYN_COUNT', 'PSH_COUNT', 'LENGTHS_MIN', 'LENGTHS_STD', 'FWD_LENGTHS_MIN', 'FWD_LENGTHS_MAX', 'FWD_LENGTHS_MEAN', 'FWD_LENGTHS_STD', 'BWD_LENGTHS_MIN', 'BWD_LENGTHS_MAX', 'BWD_LENGTHS_MEAN', 'BWD_LENGTHS_STD', 'PKT_IAT_MAX', 'PKT_IAT_STD', 'FWD_PKT_IAT_MAX', 'BWD_PKT_IAT_MAX', 'BWD_PKT_IAT_MEAN', 'D_PHISTS_SIZES_DIST_W_6', 'S_PHISTS_SIZES_DIST_W_6', 'D_PHISTS_IPT_DIST_W_6', 'S_PHISTS_IPT_DIST_W_6', 'S_PPI_LENGTHS_DIST_W_2', 'D_PPI_LENGTHS_DIST_W_2']\n",
      "- Length is 27\n",
      "- Acc before reduction 88.3\n",
      "- Acc after reduction 90.4\n",
      "- F1 after reduction 85.1\n"
     ]
    }
   ],
   "source": [
    "for i,key in enumerate(names):\n",
    "    print(\"-----------\")\n",
    "    print(key)\n",
    "    print(list(REDUCTION[key]))\n",
    "    print(f\"- Length is {len(REDUCTION[key])}\")\n",
    "    print(f\"- Acc before reduction {SCORE[i]*100:.1f}\")\n",
    "    print(f\"- Acc after reduction {SCORE_reduced[i]*100:.1f}\")\n",
    "    print(f\"- F1 after reduction {F1_reduced[i]*100:.1f}\")"
   ]
  },
  {
   "cell_type": "code",
   "execution_count": 4,
   "id": "cd4c82cb-4b39-4ae4-8898-9d3e1198556a",
   "metadata": {
    "tags": []
   },
   "outputs": [],
   "source": [
    "with open('results/reduced_features_42.pickle', 'rb') as file:\n",
    "    names, REDUCTION, SCORE, SCORE_reduced, F1_reduced = pickle.load(file)"
   ]
  },
  {
   "cell_type": "code",
   "execution_count": 5,
   "id": "565f2dbc-eb42-4ae2-8eb3-8200991ab014",
   "metadata": {
    "tags": []
   },
   "outputs": [
    {
     "name": "stdout",
     "output_type": "stream",
     "text": [
      "-----------\n",
      "CM all\n",
      "['BYTES', 'BYTES_REV', 'BYTES_REV_RATE', 'FIN_COUNT', 'LENGTHS_STD', 'FWD_LENGTHS_MIN', 'FWD_LENGTHS_MAX', 'FWD_LENGTHS_MEAN', 'BWD_LENGTHS_MIN', 'BWD_LENGTHS_MAX', 'BWD_LENGTHS_MEAN', 'BWD_LENGTHS_STD', 'PKT_IAT_MAX', 'PKT_IAT_MEAN', 'D_PHISTS_SIZES_DIST_CM_1', 'S_PHISTS_SIZES_DIST_CM_2', 'S_PHISTS_IPT_DIST_CM_2', 'D_PHISTS_SIZES_DIST_CM_3', 'D_PHISTS_SIZES_DIST_CM_4', 'D_PHISTS_IPT_DIST_CM_5', 'D_PHISTS_SIZES_DIST_CM_6', 'D_PPI_IPT_DIST_CM_1', 'D_PPI_LENGTHS_DIST_CM_1', 'D_PPI_IPT_DIST_CM_2', 'S_PPI_LENGTHS_DIST_CM_2', 'D_PPI_LENGTHS_DIST_CM_2']\n",
      "- Length is 26\n",
      "- Acc before reduction 88.4\n",
      "- Acc after reduction 91.3\n",
      "- F1 after reduction 86.4\n",
      "-----------\n",
      "L1 all\n",
      "['BYTES_REV', 'PACKETS_RATE', 'FIN_COUNT', 'PSH_COUNT', 'LENGTHS_MEAN', 'FWD_LENGTHS_MIN', 'FWD_LENGTHS_MAX', 'FWD_LENGTHS_MEAN', 'FWD_LENGTHS_STD', 'BWD_LENGTHS_MIN', 'BWD_LENGTHS_MAX', 'BWD_LENGTHS_MEAN', 'BWD_LENGTHS_STD', 'BWD_PKT_IAT_MAX', 'BWD_PKT_IAT_MEAN', 'D_PHISTS_SIZES_DIST_L1_3', 'D_PHISTS_SIZES_DIST_L1_4', 'S_PHISTS_SIZES_DIST_L1_4', 'D_PHISTS_SIZES_DIST_L1_5', 'D_PHISTS_IPT_DIST_L1_5', 'D_PHISTS_SIZES_DIST_L1_6', 'S_PHISTS_SIZES_DIST_L1_6', 'S_PPI_IPT_DIST_L1_1', 'D_PPI_IPT_DIST_L1_1', 'D_PPI_LENGTHS_DIST_L1_2']\n",
      "- Length is 25\n",
      "- Acc before reduction 88.5\n",
      "- Acc after reduction 91.1\n",
      "- F1 after reduction 86.0\n",
      "-----------\n",
      "CM best\n",
      "['BYTES_REV', 'BYTES_TOTAL_RATE', 'FIN_RATIO', 'LENGTHS_MEAN', 'FWD_LENGTHS_MIN', 'FWD_LENGTHS_MAX', 'FWD_LENGTHS_MEAN', 'FWD_LENGTHS_STD', 'BWD_LENGTHS_MIN', 'BWD_LENGTHS_MAX', 'BWD_LENGTHS_MEAN', 'BWD_LENGTHS_STD', 'PKT_IAT_MAX', 'BWD_PKT_IAT_STD', 'D_PHISTS_SIZES_DIST_CM_6', 'S_PHISTS_SIZES_DIST_CM_6', 'D_PHISTS_IPT_DIST_CM_6', 'S_PPI_IPT_DIST_CM_2', 'D_PPI_IPT_DIST_CM_2', 'S_PPI_LENGTHS_DIST_CM_2', 'D_PPI_LENGTHS_DIST_CM_2']\n",
      "- Length is 21\n",
      "- Acc before reduction 88.0\n",
      "- Acc after reduction 90.8\n",
      "- F1 after reduction 85.5\n",
      "-----------\n",
      "L1 best\n",
      "['BYTES', 'BYTES_REV', 'BYTES_TOTAL_RATE', 'FIN_COUNT', 'LENGTHS_STD', 'FWD_LENGTHS_MIN', 'FWD_LENGTHS_MAX', 'FWD_LENGTHS_MEAN', 'FWD_LENGTHS_STD', 'BWD_LENGTHS_MIN', 'BWD_LENGTHS_MAX', 'BWD_LENGTHS_MEAN', 'BWD_LENGTHS_STD', 'BWD_PKT_IAT_MAX', 'D_PHISTS_SIZES_DIST_L1_6', 'S_PHISTS_SIZES_DIST_L1_6', 'D_PHISTS_IPT_DIST_L1_6', 'S_PHISTS_IPT_DIST_L1_6', 'D_PPI_LENGTHS_DIST_L1_2']\n",
      "- Length is 19\n",
      "- Acc before reduction 88.1\n",
      "- Acc after reduction 90.9\n",
      "- F1 after reduction 86.1\n",
      "-----------\n",
      "W best\n",
      "['BYTES', 'BYTES_REV', 'BYTES_TOTAL_RATE', 'FIN_COUNT', 'PSH_COUNT', 'LENGTHS_STD', 'FWD_LENGTHS_MIN', 'FWD_LENGTHS_MAX', 'FWD_LENGTHS_MEAN', 'FWD_LENGTHS_STD', 'BWD_LENGTHS_MIN', 'BWD_LENGTHS_MAX', 'BWD_LENGTHS_MEAN', 'BWD_LENGTHS_STD', 'PKT_IAT_STD', 'BWD_PKT_IAT_MAX', 'D_PHISTS_SIZES_DIST_W_6', 'S_PHISTS_SIZES_DIST_W_6', 'D_PHISTS_IPT_DIST_W_6', 'D_PPI_LENGTHS_DIST_W_2']\n",
      "- Length is 20\n",
      "- Acc before reduction 88.3\n",
      "- Acc after reduction 90.6\n",
      "- F1 after reduction 85.5\n"
     ]
    }
   ],
   "source": [
    "for i,key in enumerate(names):\n",
    "    print(\"-----------\")\n",
    "    print(key)\n",
    "    print(list(REDUCTION[key]))\n",
    "    print(f\"- Length is {len(REDUCTION[key])}\")\n",
    "    print(f\"- Acc before reduction {SCORE[i]*100:.1f}\")\n",
    "    print(f\"- Acc after reduction {SCORE_reduced[i]*100:.1f}\")\n",
    "    print(f\"- F1 after reduction {F1_reduced[i]*100:.1f}\")"
   ]
  },
  {
   "cell_type": "code",
   "execution_count": null,
   "id": "64785ea0-5d6d-4b5f-bfcb-2a1cb5dbbcbc",
   "metadata": {},
   "outputs": [],
   "source": []
  }
 ],
 "metadata": {
  "kernelspec": {
   "display_name": "Python 3 (ipykernel)",
   "language": "python",
   "name": "python3"
  },
  "language_info": {
   "codemirror_mode": {
    "name": "ipython",
    "version": 3
   },
   "file_extension": ".py",
   "mimetype": "text/x-python",
   "name": "python",
   "nbconvert_exporter": "python",
   "pygments_lexer": "ipython3",
   "version": "3.10.6"
  }
 },
 "nbformat": 4,
 "nbformat_minor": 5
}
