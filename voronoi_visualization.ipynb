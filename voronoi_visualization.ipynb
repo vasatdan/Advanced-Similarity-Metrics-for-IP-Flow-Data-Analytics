{
 "cells": [
  {
   "cell_type": "markdown",
   "id": "b599faff",
   "metadata": {},
   "source": [
    "# Voronoi diagrams"
   ]
  },
  {
   "cell_type": "code",
   "execution_count": 1,
   "id": "855fadb1",
   "metadata": {},
   "outputs": [],
   "source": [
    "# import\n",
    "import numpy as np\n",
    "import pandas as pd\n",
    "import matplotlib.pyplot as plt\n",
    "\n",
    "from matplotlib.colors import ListedColormap\n",
    "from sklearn.neighbors import KNeighborsClassifier\n",
    "\n",
    "import warnings\n",
    "warnings.filterwarnings('ignore')"
   ]
  },
  {
   "cell_type": "code",
   "execution_count": 2,
   "id": "c0c31cc7",
   "metadata": {},
   "outputs": [],
   "source": [
    "# generate sample points and their labels\n",
    "def get_sample(n, random_seed):\n",
    "    np.random.seed(random_seed)\n",
    "    mean = [20, 20]\n",
    "    cov = [[30, 85], [85, 10]]\n",
    "    X = np.random.multivariate_normal(mean, cov, n)\n",
    "    y = np.array(range(n))\n",
    "    return X, y"
   ]
  },
  {
   "cell_type": "code",
   "execution_count": 3,
   "id": "28ef8abd",
   "metadata": {},
   "outputs": [],
   "source": [
    "# use kNN with l_p metric to find closest points to points in a plane\n",
    "def get_prediction(X, y, xx, yy, p, n_neighbors=1):\n",
    "    clf = KNeighborsClassifier(n_neighbors=n_neighbors, p=p)\n",
    "    clf.fit(X, y)\n",
    "    Z = clf.predict(np.c_[xx.ravel(), yy.ravel()])\n",
    "    Z = Z.reshape(xx.shape)\n",
    "    return Z"
   ]
  },
  {
   "cell_type": "code",
   "execution_count": 4,
   "id": "24476b56",
   "metadata": {},
   "outputs": [],
   "source": [
    "# generate sample points\n",
    "X, y = get_sample(4, 10)\n",
    "\n",
    "# set mesh size (how dense are points in the plane)\n",
    "mesh_size = 0.1\n",
    "# set border around sample points\n",
    "border = 5\n",
    "\n",
    "# generate meshgrid in the plane\n",
    "x_min, x_max = X[:, 0].min() - border, X[:, 0].max() + border\n",
    "y_min, y_max = X[:, 1].min() - border, X[:, 1].max() + border\n",
    "xx, yy = np.meshgrid(np.arange(x_min, x_max, mesh_size),np.arange(y_min, y_max, mesh_size))"
   ]
  },
  {
   "cell_type": "code",
   "execution_count": 5,
   "id": "2f7f2af7",
   "metadata": {},
   "outputs": [
    {
     "data": {
      "image/png": "[encoded data removed]",
      "text/plain": [
       "<Figure size 800x400 with 2 Axes>"
      ]
     },
     "metadata": {},
     "output_type": "display_data"
    }
   ],
   "source": [
    "# set colors and opacity\n",
    "cmap_bold = ListedColormap(['r','g','b','k'])\n",
    "alpha = 0.7\n",
    "\n",
    "# set figuresize\n",
    "plt.figure(figsize=(8, 4))\n",
    "\n",
    "# subplot for p = 2 (Euclidean metric)\n",
    "ax1 = plt.subplot(121)\n",
    "\n",
    "Z1 = get_prediction(X,y,xx,yy,2)\n",
    "plt.pcolormesh(xx, yy, Z1, cmap=cmap_bold, alpha = alpha)\n",
    "\n",
    "plt.scatter(X[:, 0], X[:, 1], c=y, cmap=cmap_bold)\n",
    "plt.xlim(xx.min(), xx.max())\n",
    "plt.ylim(yy.min(), yy.max())\n",
    "\n",
    "# subplot for p = 0.1\n",
    "ax2 = plt.subplot(122, sharex=ax1, sharey=ax1)\n",
    "\n",
    "Z2 = get_prediction(X,y,xx,yy,0.1)\n",
    "plt.pcolormesh(xx, yy, Z2, cmap=cmap_bold, alpha = alpha)\n",
    "\n",
    "plt.scatter(X[:, 0], X[:, 1], c=y, cmap=cmap_bold)\n",
    "plt.xlim(xx.min(), xx.max())\n",
    "plt.ylim(yy.min(), yy.max())\n",
    "\n",
    "plt.xticks([])\n",
    "plt.yticks([])\n",
    "plt.tight_layout()\n",
    "\n",
    "# save figure\n",
    "save_as = 'voronoi_diagrams'\n",
    "plt.savefig('pictures/' + save_as)\n",
    "plt.show()"
   ]
  }
 ],
 "metadata": {
  "kernelspec": {
   "display_name": "Python 3 (ipykernel)",
   "language": "python",
   "name": "python3"
  },
  "language_info": {
   "codemirror_mode": {
    "name": "ipython",
    "version": 3
   },
   "file_extension": ".py",
   "mimetype": "text/x-python",
   "name": "python",
   "nbconvert_exporter": "python",
   "pygments_lexer": "ipython3",
   "version": "3.10.6"
  }
 },
 "nbformat": 4,
 "nbformat_minor": 5
}
