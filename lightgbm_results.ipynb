{
 "cells": [
  {
   "cell_type": "code",
   "execution_count": 1,
   "id": "aba057aa-1a00-4e9c-afd0-6099a97d9840",
   "metadata": {
    "tags": []
   },
   "outputs": [],
   "source": [
    "import os\n",
    "import pickle\n",
    "import json"
   ]
  },
  {
   "cell_type": "code",
   "execution_count": 2,
   "id": "7e613b07-0716-43dc-b043-77741cb1d15b",
   "metadata": {
    "tags": []
   },
   "outputs": [],
   "source": [
    "feature_set_names = [\"B+S\",\"B+S+CM\",\"B+S+CM_all\", \"reduced\"]"
   ]
  },
  {
   "cell_type": "code",
   "execution_count": 3,
   "id": "bf6edfe5-2777-4209-8fcc-ef4fdd530a1a",
   "metadata": {
    "tags": []
   },
   "outputs": [
    {
     "name": "stdout",
     "output_type": "stream",
     "text": [
      "\n",
      "Iterating the feature sets\n",
      "-----------------------------------------------------\n",
      "B+S\n",
      "\n",
      "Test accuracy = 91.0, F1 = 86.7\n",
      "\n",
      "Best hyperparameters: {\n",
      "  \"boosting_type\": \"gbdt\",\n",
      "  \"objective\": \"multiclass\",\n",
      "  \"metric\": \"multi_error\",\n",
      "  \"num_class\": 154,\n",
      "  \"force_col_wise\": true,\n",
      "  \"feature_pre_filter\": false,\n",
      "  \"feature_fraction\": 0.8,\n",
      "  \"bagging_fraction\": 1.0,\n",
      "  \"bagging_freq\": 0,\n",
      "  \"learning_rate\": 0.1,\n",
      "  \"min_data_in_leaf\": 20,\n",
      "  \"seed\": 6886,\n",
      "  \"max_depth\": 11,\n",
      "  \"num_leaves\": 338,\n",
      "  \"lambda_l1\": 4.4419058512224415e-08,\n",
      "  \"lambda_l2\": 5.465802286477425\n",
      "}\n",
      "-----------------------------------------------------\n",
      "B+S+CM\n",
      "\n",
      "Test accuracy = 91.5, F1 = 87.3\n",
      "\n",
      "Best hyperparameters: {\n",
      "  \"boosting_type\": \"gbdt\",\n",
      "  \"objective\": \"multiclass\",\n",
      "  \"metric\": \"multi_error\",\n",
      "  \"num_class\": 154,\n",
      "  \"force_col_wise\": true,\n",
      "  \"feature_pre_filter\": false,\n",
      "  \"feature_fraction\": 0.8,\n",
      "  \"bagging_fraction\": 1.0,\n",
      "  \"bagging_freq\": 0,\n",
      "  \"learning_rate\": 0.1,\n",
      "  \"min_data_in_leaf\": 20,\n",
      "  \"seed\": 6886,\n",
      "  \"max_depth\": 9,\n",
      "  \"num_leaves\": 335,\n",
      "  \"lambda_l1\": 3.436544887049987e-08,\n",
      "  \"lambda_l2\": 3.441644511627116\n",
      "}\n",
      "-----------------------------------------------------\n",
      "B+S+CM_all\n",
      "\n",
      "Test accuracy = 91.9, F1 = 87.8\n",
      "\n",
      "Best hyperparameters: {\n",
      "  \"boosting_type\": \"gbdt\",\n",
      "  \"objective\": \"multiclass\",\n",
      "  \"metric\": \"multi_error\",\n",
      "  \"num_class\": 154,\n",
      "  \"force_col_wise\": true,\n",
      "  \"feature_pre_filter\": false,\n",
      "  \"feature_fraction\": 0.8,\n",
      "  \"bagging_fraction\": 1.0,\n",
      "  \"bagging_freq\": 0,\n",
      "  \"learning_rate\": 0.1,\n",
      "  \"min_data_in_leaf\": 20,\n",
      "  \"seed\": 6886,\n",
      "  \"max_depth\": 9,\n",
      "  \"num_leaves\": 345,\n",
      "  \"lambda_l1\": 2.2638197323375382e-08,\n",
      "  \"lambda_l2\": 4.543052546310456\n",
      "}\n",
      "-----------------------------------------------------\n",
      "reduced\n",
      "\n",
      "Test accuracy = 91.7, F1 = 87.5\n",
      "\n",
      "Best hyperparameters: {\n",
      "  \"boosting_type\": \"gbdt\",\n",
      "  \"objective\": \"multiclass\",\n",
      "  \"metric\": \"multi_error\",\n",
      "  \"num_class\": 154,\n",
      "  \"force_col_wise\": true,\n",
      "  \"feature_pre_filter\": false,\n",
      "  \"feature_fraction\": 0.8,\n",
      "  \"bagging_fraction\": 1.0,\n",
      "  \"bagging_freq\": 0,\n",
      "  \"learning_rate\": 0.1,\n",
      "  \"min_data_in_leaf\": 20,\n",
      "  \"seed\": 6886,\n",
      "  \"max_depth\": 10,\n",
      "  \"num_leaves\": 334,\n",
      "  \"lambda_l1\": 1.059118705246877e-08,\n",
      "  \"lambda_l2\": 4.793468352538153\n",
      "}\n"
     ]
    }
   ],
   "source": [
    "save_dir = os.path.join(\"./results/lightgbm\")\n",
    "base_name = \"metric_features_preprocessed_sample_10000_0.012\"\n",
    "\n",
    "##########################################################################\n",
    "print(f\"\\nIterating the feature sets\")\n",
    "for i, feature_set_name in enumerate(feature_set_names):\n",
    "    print(\"-----------------------------------------------------\")\n",
    "    print(feature_set_name)\n",
    "    save_name = os.path.join(save_dir,f\"optuna_{feature_set_name}_{base_name}.pkl\")\n",
    "    with open(save_name, 'rb') as file:\n",
    "        feature_set_tuple, study, params, val_accuracy, accuracy, val_f1, f1, yval, vypred, ytest, typred = pickle.load(file)\n",
    "    print(f'\\nTest accuracy = {accuracy*100:.1f}, F1 = {f1*100:.1f}')\n",
    "    print(f\"\\nBest hyperparameters: {json.dumps(params, indent=2)}\")"
   ]
  },
  {
   "cell_type": "code",
   "execution_count": null,
   "id": "05a2b051-6da7-44af-8364-045fb4425f63",
   "metadata": {},
   "outputs": [],
   "source": []
  }
 ],
 "metadata": {
  "kernelspec": {
   "display_name": "Python 3 (ipykernel)",
   "language": "python",
   "name": "python3"
  },
  "language_info": {
   "codemirror_mode": {
    "name": "ipython",
    "version": 3
   },
   "file_extension": ".py",
   "mimetype": "text/x-python",
   "name": "python",
   "nbconvert_exporter": "python",
   "pygments_lexer": "ipython3",
   "version": "3.10.6"
  }
 },
 "nbformat": 4,
 "nbformat_minor": 5
}
