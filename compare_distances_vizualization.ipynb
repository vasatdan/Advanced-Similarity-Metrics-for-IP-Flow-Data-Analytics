{
 "cells": [
  {
   "cell_type": "code",
   "execution_count": 22,
   "id": "2680a6bd-d2ec-4ed0-87e7-711abe58748a",
   "metadata": {
    "tags": []
   },
   "outputs": [],
   "source": [
    "import numpy as np\n",
    "import pandas as pd\n",
    "import matplotlib.pyplot as plt\n",
    "import matplotlib \n",
    "matplotlib.rc('text', usetex = True)\n",
    "matplotlib.rc('font', family = 'serif')\n",
    "matplotlib.rc('xtick', labelsize=15) \n",
    "matplotlib.rc('ytick', labelsize=15) "
   ]
  },
  {
   "cell_type": "code",
   "execution_count": 11,
   "id": "95bc8e9d-f83a-4f1a-ada4-ac035716ad2f",
   "metadata": {
    "tags": []
   },
   "outputs": [],
   "source": [
    "distances =pd.read_pickle('results/compare_dist_results.pickle')  #'path to distances computed by script compare_probability_distances.py'\n",
    "L1_dist_all = [round(100*x,2) for x in distances[0:13]]\n",
    "L2_dist_all = [round(100*x,2) for x in distances[13:26]]\n",
    "max_dist_all = [round(100*x,2) for x in distances[26:39]]\n",
    "cos_dist_all = [round(100*x,2) for x in distances[39:52]]\n",
    "JS_dist_all = [round(100*x,2) for x in distances[52:65]]\n",
    "W_dist_all = [round(100*x,2) for x in distances[65:78]]\n",
    "CM_dist_all = [round(100*x,2) for x in distances[78:91]]\n"
   ]
  },
  {
   "cell_type": "code",
   "execution_count": 12,
   "id": "3bdff911-3518-4988-856d-3553d466f9a6",
   "metadata": {
    "tags": []
   },
   "outputs": [],
   "source": [
    "dist_all = np.vstack([max_dist_all,cos_dist_all,JS_dist_all,L2_dist_all,L1_dist_all,CM_dist_all,W_dist_all])\n",
    "dist = dist_all[:,0:12]\n",
    "x = ['max','cos','JS','$l_2$','$l_1$','CM','W']"
   ]
  },
  {
   "cell_type": "code",
   "execution_count": 13,
   "id": "f9d341fc-18da-42bf-b9be-a16f0ab585be",
   "metadata": {
    "tags": []
   },
   "outputs": [
    {
     "data": {
      "text/html": [
       "<table border=\"1\" class=\"dataframe\">\n",
       "  <thead>\n",
       "    <tr style=\"text-align: right;\">\n",
       "      <th></th>\n",
       "      <th>max</th>\n",
       "      <th>cos</th>\n",
       "      <th>JS</th>\n",
       "      <th>$l_2$</th>\n",
       "      <th>$l_1$</th>\n",
       "      <th>CM</th>\n",
       "      <th>W</th>\n",
       "    </tr>\n",
       "  </thead>\n",
       "  <tbody>\n",
       "    <tr>\n",
       "      <th>0</th>\n",
       "      <td>87.37</td>\n",
       "      <td>87.36</td>\n",
       "      <td>87.32</td>\n",
       "      <td>87.74</td>\n",
       "      <td>87.40</td>\n",
       "      <td>87.75</td>\n",
       "      <td>88.18</td>\n",
       "    </tr>\n",
       "    <tr>\n",
       "      <th>1</th>\n",
       "      <td>87.45</td>\n",
       "      <td>87.48</td>\n",
       "      <td>87.50</td>\n",
       "      <td>87.74</td>\n",
       "      <td>87.58</td>\n",
       "      <td>87.93</td>\n",
       "      <td>88.21</td>\n",
       "    </tr>\n",
       "    <tr>\n",
       "      <th>2</th>\n",
       "      <td>87.32</td>\n",
       "      <td>87.41</td>\n",
       "      <td>87.28</td>\n",
       "      <td>87.74</td>\n",
       "      <td>87.31</td>\n",
       "      <td>87.73</td>\n",
       "      <td>88.18</td>\n",
       "    </tr>\n",
       "    <tr>\n",
       "      <th>3</th>\n",
       "      <td>87.40</td>\n",
       "      <td>87.55</td>\n",
       "      <td>87.42</td>\n",
       "      <td>87.71</td>\n",
       "      <td>87.59</td>\n",
       "      <td>87.90</td>\n",
       "      <td>88.21</td>\n",
       "    </tr>\n",
       "    <tr>\n",
       "      <th>4</th>\n",
       "      <td>87.67</td>\n",
       "      <td>87.63</td>\n",
       "      <td>87.61</td>\n",
       "      <td>87.76</td>\n",
       "      <td>87.55</td>\n",
       "      <td>87.72</td>\n",
       "      <td>88.15</td>\n",
       "    </tr>\n",
       "    <tr>\n",
       "      <th>5</th>\n",
       "      <td>87.60</td>\n",
       "      <td>87.70</td>\n",
       "      <td>87.67</td>\n",
       "      <td>87.69</td>\n",
       "      <td>87.75</td>\n",
       "      <td>87.88</td>\n",
       "      <td>88.16</td>\n",
       "    </tr>\n",
       "    <tr>\n",
       "      <th>6</th>\n",
       "      <td>87.63</td>\n",
       "      <td>87.61</td>\n",
       "      <td>87.60</td>\n",
       "      <td>87.82</td>\n",
       "      <td>87.70</td>\n",
       "      <td>87.74</td>\n",
       "      <td>88.17</td>\n",
       "    </tr>\n",
       "    <tr>\n",
       "      <th>7</th>\n",
       "      <td>87.69</td>\n",
       "      <td>87.79</td>\n",
       "      <td>87.79</td>\n",
       "      <td>87.82</td>\n",
       "      <td>87.86</td>\n",
       "      <td>87.87</td>\n",
       "      <td>88.20</td>\n",
       "    </tr>\n",
       "    <tr>\n",
       "      <th>8</th>\n",
       "      <td>87.35</td>\n",
       "      <td>87.65</td>\n",
       "      <td>87.59</td>\n",
       "      <td>87.82</td>\n",
       "      <td>87.76</td>\n",
       "      <td>87.72</td>\n",
       "      <td>88.23</td>\n",
       "    </tr>\n",
       "    <tr>\n",
       "      <th>9</th>\n",
       "      <td>87.41</td>\n",
       "      <td>87.78</td>\n",
       "      <td>87.75</td>\n",
       "      <td>87.77</td>\n",
       "      <td>87.93</td>\n",
       "      <td>87.90</td>\n",
       "      <td>88.23</td>\n",
       "    </tr>\n",
       "    <tr>\n",
       "      <th>10</th>\n",
       "      <td>87.65</td>\n",
       "      <td>87.72</td>\n",
       "      <td>87.68</td>\n",
       "      <td>87.85</td>\n",
       "      <td>87.83</td>\n",
       "      <td>87.76</td>\n",
       "      <td>88.25</td>\n",
       "    </tr>\n",
       "    <tr>\n",
       "      <th>11</th>\n",
       "      <td>87.72</td>\n",
       "      <td>87.87</td>\n",
       "      <td>87.83</td>\n",
       "      <td>87.88</td>\n",
       "      <td>88.10</td>\n",
       "      <td>87.95</td>\n",
       "      <td>88.26</td>\n",
       "    </tr>\n",
       "    <tr>\n",
       "      <th>12</th>\n",
       "      <td>87.20</td>\n",
       "      <td>88.17</td>\n",
       "      <td>88.23</td>\n",
       "      <td>87.75</td>\n",
       "      <td>88.44</td>\n",
       "      <td>88.40</td>\n",
       "      <td>86.78</td>\n",
       "    </tr>\n",
       "  </tbody>\n",
       "</table>"
      ],
      "text/plain": [
       "<IPython.core.display.HTML object>"
      ]
     },
     "metadata": {},
     "output_type": "display_data"
    }
   ],
   "source": [
    "from IPython.display import HTML, display\n",
    "data_all = pd.DataFrame(dist_all.T, columns = x)\n",
    "display(HTML(data_all.to_html()))"
   ]
  },
  {
   "cell_type": "code",
   "execution_count": 33,
   "id": "050661c7-0f7e-44fc-b528-02cba59ceeea",
   "metadata": {
    "tags": []
   },
   "outputs": [
    {
     "data": {
      "image/png": "[encoded data removed]",
      "text/plain": [
       "<Figure size 1000x400 with 1 Axes>"
      ]
     },
     "metadata": {},
     "output_type": "display_data"
    }
   ],
   "source": [
    "dist_cut = dist[:,1:12:10]\n",
    "\n",
    "\n",
    "plt.figure(figsize = (10,4))\n",
    "plt.grid(axis= 'y')\n",
    "plt.plot(x,dist_cut[:,0], marker = '*',linewidth=0.2, markersize=12)\n",
    "plt.plot(x,dist_cut[:,1], marker = '*',linewidth=0.2, markersize=12)\n",
    "plt.legend(['$h_1$ and $s_2$','$h_6$ and $s_2$'],loc = 0, fontsize = 15)\n",
    "plt.savefig(fname = 'pictures/choice_of_distance.pdf',format = 'pdf', bbox_inches='tight')"
   ]
  },
  {
   "cell_type": "code",
   "execution_count": 32,
   "id": "730e9077-362a-445c-9646-8d75766fd8ee",
   "metadata": {
    "tags": []
   },
   "outputs": [
    {
     "data": {
      "image/png": "[encoded data removed]",
      "text/plain": [
       "<Figure size 1000x400 with 1 Axes>"
      ]
     },
     "metadata": {},
     "output_type": "display_data"
    }
   ],
   "source": [
    "CMWl = np.vstack([CM_dist_all,W_dist_all,L1_dist_all]).T\n",
    "\n",
    "xt = ['$h_1s_1$', '$h_1s_2$', '$h_2s_1$','$h_2s_2$','$h_3s_1$','$h_3s_2$','$h_4s_1$','$h_4s_2$','$h_5s_1$','$h_5s_2$','$h_6s_1$','$h_6s_2$','all']\n",
    "\n",
    "plt.figure(figsize = (10,4))\n",
    "plt.grid(axis= 'y')\n",
    "plt.plot(xt,CMWl[:,1], marker = '*', linewidth=0.2, markersize=12)\n",
    "plt.plot(xt,CMWl[:,2], marker = '*', linewidth=0.2, markersize=12)\n",
    "plt.plot(xt,CMWl[:,0], marker = '*', linewidth=0.2, markersize=12)\n",
    "\n",
    "plt.legend([\"W\",\"$l_1$\",\"CM\"],loc = 0, fontsize = 15)\n",
    "plt.savefig(fname = 'pictures/choice_of_hist_splt.pdf',format = 'pdf', bbox_inches='tight')"
   ]
  },
  {
   "cell_type": "code",
   "execution_count": null,
   "id": "0cd92ebc-fa01-470e-9eff-ab46e58a6d9b",
   "metadata": {},
   "outputs": [],
   "source": []
  },
  {
   "cell_type": "code",
   "execution_count": null,
   "id": "afe8bcf2-4ce0-45a3-8fab-6d5270d2be7a",
   "metadata": {},
   "outputs": [],
   "source": []
  },
  {
   "cell_type": "code",
   "execution_count": null,
   "id": "1f0c5836-3089-4ecc-83d4-18d645b207e1",
   "metadata": {},
   "outputs": [],
   "source": []
  },
  {
   "cell_type": "code",
   "execution_count": null,
   "id": "469917f1-7f98-447d-8c68-457f6c0daf79",
   "metadata": {},
   "outputs": [],
   "source": []
  },
  {
   "cell_type": "code",
   "execution_count": null,
   "id": "9253fb96-f566-48f7-8840-6d9ca26d3603",
   "metadata": {},
   "outputs": [],
   "source": []
  }
 ],
 "metadata": {
  "kernelspec": {
   "display_name": "Python 3 (ipykernel)",
   "language": "python",
   "name": "python3"
  },
  "language_info": {
   "codemirror_mode": {
    "name": "ipython",
    "version": 3
   },
   "file_extension": ".py",
   "mimetype": "text/x-python",
   "name": "python",
   "nbconvert_exporter": "python",
   "pygments_lexer": "ipython3",
   "version": "3.10.6"
  }
 },
 "nbformat": 4,
 "nbformat_minor": 5
}
